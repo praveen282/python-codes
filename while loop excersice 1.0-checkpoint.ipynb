{
 "cells": [
  {
   "cell_type": "code",
   "execution_count": 1,
   "id": "2dc6dae0",
   "metadata": {},
   "outputs": [],
   "source": [
    "#1 x=\"abcde\"\n",
    "#out put x1=\"AbCdE\"\n",
    "\n",
    "#2 x=[\"a\",1.2,322,\"abc\",1+2j] - get the data type of each element\n",
    "\n",
    "#3 create list x= [\"a\",\"b\",1,2,3,\"d\",\"e\",4]\n",
    "# output \"abde\"\n",
    "# output \"1+2+3+4\"=10\n",
    "\n",
    "#4 x=\"abcd123ef\"\n",
    "# output\n",
    "# [alphabits]\n",
    "# [numaric]\n",
    "\n",
    "#5 create 2 list \n",
    "# l1=[1,2,3,\"a\",\"b\"]\n",
    "# l2=[6,1,3,\"a\",\"d\"]\n",
    "# output\n",
    "# l3=[6,\"d\",\"b\",1]\n",
    " \n",
    "    \n",
    "    \n",
    "\n",
    "#6 create a calculator (it should stop when we press \"c\") "
   ]
  },
  {
   "cell_type": "code",
   "execution_count": 13,
   "id": "28a947aa",
   "metadata": {},
   "outputs": [
    {
     "name": "stdout",
     "output_type": "stream",
     "text": [
      "enter the stringabcde\n",
      "AbCdE\n"
     ]
    }
   ],
   "source": [
    "#1 x=\"abcde\"\n",
    "#out put x1=\"AbCdE\"\n",
    "x=input(\"enter the string\")\n",
    "y=0\n",
    "z=len(x)\n",
    "a=\"\"\n",
    "\n",
    "while y<z:\n",
    "    if y%2==0:\n",
    "        a=a+x[y].upper()\n",
    "        \n",
    "    else:\n",
    "        a=a+x[y]\n",
    "    y=y+1      \n",
    "    \n",
    "print(a)\n",
    "    "
   ]
  },
  {
   "cell_type": "code",
   "execution_count": 15,
   "id": "45780234",
   "metadata": {},
   "outputs": [
    {
     "name": "stdout",
     "output_type": "stream",
     "text": [
      "a    <class 'str'>\n",
      "1.2    <class 'float'>\n",
      "322    <class 'int'>\n",
      "abc    <class 'str'>\n",
      "(1+2j)    <class 'complex'>\n"
     ]
    }
   ],
   "source": [
    "#2 x=[\"a\",1.2,322,\"abc\",1+2j] - get the data type of each element\n",
    "x=[\"a\",1.2,322,\"abc\",1+2j]\n",
    "y=0\n",
    "z=len(x)\n",
    "while y<z:\n",
    "    print(\"{}    {}\".format(x[y],type(x[y])))\n",
    "    y=y+1\n"
   ]
  },
  {
   "cell_type": "code",
   "execution_count": null,
   "id": "1609e9f3",
   "metadata": {},
   "outputs": [],
   "source": [
    "#3 create list x= [\"a\",\"b\",1,2,3,\"d\",\"e\",4]\n",
    "# output \"abde\"\n",
    "# output \"1+2+3+4\"=10"
   ]
  },
  {
   "cell_type": "code",
   "execution_count": 3,
   "id": "ea83f344",
   "metadata": {},
   "outputs": [
    {
     "name": "stdout",
     "output_type": "stream",
     "text": [
      "alpha= abde\n",
      "numaric= 10\n"
     ]
    }
   ],
   "source": [
    "x=[\"a\",\"b\",\"1\",\"2\",\"3\",\"d\",\"e\",\"4\"]\n",
    "y=0\n",
    "z=len(x)\n",
    "a=''\n",
    "d=0\n",
    "while y<z:\n",
    "    if x[y].isalpha():\n",
    "         a=a+x[y]\n",
    "    else:\n",
    "        d=d+int(x[y])\n",
    "    y=y+1\n",
    "print('alpha=',a)\n",
    "print('numaric=',d)\n",
    "\n"
   ]
  },
  {
   "cell_type": "code",
   "execution_count": 4,
   "id": "1815e654",
   "metadata": {},
   "outputs": [
    {
     "name": "stdout",
     "output_type": "stream",
     "text": [
      "enter the stringinnomatics48957\n",
      "all numaric=  4 8 9 5 7\n",
      "all alphabets=  i n n o m a t i c s\n"
     ]
    }
   ],
   "source": [
    "#4 x=\"abcd123ef\"\n",
    "# output\n",
    "# [alphabits]\n",
    "# [numaric]\n",
    "A=input(\"enter the string\")\n",
    "B=0\n",
    "C=''\n",
    "D=''\n",
    "E=len(A)\n",
    "while B!=E:\n",
    "    if A[B].isdigit()== True:\n",
    "        C=C+' '+A[B]\n",
    "    else:\n",
    "        D=D+' '+A[B]\n",
    "    B=B+1\n",
    "print(\"all numaric=\",C)\n",
    "print(\"all alphabets=\",D)\n",
    "        \n"
   ]
  },
  {
   "cell_type": "code",
   "execution_count": null,
   "id": "77b858db",
   "metadata": {},
   "outputs": [],
   "source": [
    "\n",
    "#5 create 2 list \n",
    "# l1=[1,2,3,\"a\",\"b\"]\n",
    "# l2=[6,1,3,\"a\",\"d\"]\n",
    "# output\n",
    "# l3=[6,\"d\",\"b\",1]\n",
    "    "
   ]
  },
  {
   "cell_type": "code",
   "execution_count": 6,
   "id": "abca5e7e",
   "metadata": {},
   "outputs": [],
   "source": [
    "l1=[1,2,3,\"a\",\"b\"]\n",
    "l2=[6,1,3,\"a\",\"d\"]\n",
    "set1=set(l1)\n",
    "set2=set(l2)"
   ]
  },
  {
   "cell_type": "code",
   "execution_count": 15,
   "id": "b57efc9f",
   "metadata": {},
   "outputs": [
    {
     "name": "stdout",
     "output_type": "stream",
     "text": [
      "enter the string10\n",
      "enter the string20\n",
      "+ for add, - for sub, * for mul, / for divison :+\n",
      "sum of 10 and 20 is 30 :\n",
      "wish to continue(yes or no) ?yes\n",
      "enter the string10\n",
      "enter the string20\n",
      "+ for add, - for sub, * for mul, / for divison :-\n",
      "subraction of 10 and 20 is -10 :\n",
      "wish to continue(yes or no) ?yes\n",
      "enter the string10\n",
      "enter the string20\n",
      "+ for add, - for sub, * for mul, / for divison :*\n",
      "multiplication of 10 and 20 is 200 :\n",
      "wish to continue(yes or no) ?yes\n",
      "enter the string40\n",
      "enter the string2\n",
      "+ for add, - for sub, * for mul, / for divison :/\n",
      "division of 40 and 2 is 200 :\n",
      "wish to continue(yes or no) ?no\n",
      "enter the string10\n",
      "enter the string20\n",
      "+ for add, - for sub, * for mul, / for divison :/\n",
      "division of 10 and 20 is 200 :\n",
      "wish to continue(yes or no) ?no\n"
     ]
    },
    {
     "ename": "KeyboardInterrupt",
     "evalue": "Interrupted by user",
     "output_type": "error",
     "traceback": [
      "\u001b[1;31m---------------------------------------------------------------------------\u001b[0m",
      "\u001b[1;31mKeyboardInterrupt\u001b[0m                         Traceback (most recent call last)",
      "Input \u001b[1;32mIn [15]\u001b[0m, in \u001b[0;36m<cell line: 3>\u001b[1;34m()\u001b[0m\n\u001b[0;32m      2\u001b[0m name\u001b[38;5;241m=\u001b[39m\u001b[38;5;124m\"\u001b[39m\u001b[38;5;124mcalculator\u001b[39m\u001b[38;5;124m\"\u001b[39m\n\u001b[0;32m      3\u001b[0m \u001b[38;5;28;01mwhile\u001b[39;00m name\u001b[38;5;241m==\u001b[39m\u001b[38;5;124m\"\u001b[39m\u001b[38;5;124mcalculator\u001b[39m\u001b[38;5;124m\"\u001b[39m:\n\u001b[1;32m----> 4\u001b[0m     a\u001b[38;5;241m=\u001b[39m\u001b[38;5;28mint\u001b[39m(\u001b[38;5;28;43minput\u001b[39;49m\u001b[43m(\u001b[49m\u001b[38;5;124;43m\"\u001b[39;49m\u001b[38;5;124;43menter the string\u001b[39;49m\u001b[38;5;124;43m\"\u001b[39;49m\u001b[43m)\u001b[49m)\n\u001b[0;32m      5\u001b[0m     b\u001b[38;5;241m=\u001b[39m\u001b[38;5;28mint\u001b[39m(\u001b[38;5;28minput\u001b[39m(\u001b[38;5;124m\"\u001b[39m\u001b[38;5;124menter the string\u001b[39m\u001b[38;5;124m\"\u001b[39m))\n\u001b[0;32m      6\u001b[0m     c\u001b[38;5;241m=\u001b[39m\u001b[38;5;28minput\u001b[39m(\u001b[38;5;124m\"\u001b[39m\u001b[38;5;124m+ for add, - for sub, * for mul, / for divison :\u001b[39m\u001b[38;5;124m\"\u001b[39m)\n",
      "File \u001b[1;32m~\\anaconda3\\lib\\site-packages\\ipykernel\\kernelbase.py:1075\u001b[0m, in \u001b[0;36mKernel.raw_input\u001b[1;34m(self, prompt)\u001b[0m\n\u001b[0;32m   1071\u001b[0m \u001b[38;5;28;01mif\u001b[39;00m \u001b[38;5;129;01mnot\u001b[39;00m \u001b[38;5;28mself\u001b[39m\u001b[38;5;241m.\u001b[39m_allow_stdin:\n\u001b[0;32m   1072\u001b[0m     \u001b[38;5;28;01mraise\u001b[39;00m StdinNotImplementedError(\n\u001b[0;32m   1073\u001b[0m         \u001b[38;5;124m\"\u001b[39m\u001b[38;5;124mraw_input was called, but this frontend does not support input requests.\u001b[39m\u001b[38;5;124m\"\u001b[39m\n\u001b[0;32m   1074\u001b[0m     )\n\u001b[1;32m-> 1075\u001b[0m \u001b[38;5;28;01mreturn\u001b[39;00m \u001b[38;5;28;43mself\u001b[39;49m\u001b[38;5;241;43m.\u001b[39;49m\u001b[43m_input_request\u001b[49m\u001b[43m(\u001b[49m\n\u001b[0;32m   1076\u001b[0m \u001b[43m    \u001b[49m\u001b[38;5;28;43mstr\u001b[39;49m\u001b[43m(\u001b[49m\u001b[43mprompt\u001b[49m\u001b[43m)\u001b[49m\u001b[43m,\u001b[49m\n\u001b[0;32m   1077\u001b[0m \u001b[43m    \u001b[49m\u001b[38;5;28;43mself\u001b[39;49m\u001b[38;5;241;43m.\u001b[39;49m\u001b[43m_parent_ident\u001b[49m\u001b[43m[\u001b[49m\u001b[38;5;124;43m\"\u001b[39;49m\u001b[38;5;124;43mshell\u001b[39;49m\u001b[38;5;124;43m\"\u001b[39;49m\u001b[43m]\u001b[49m\u001b[43m,\u001b[49m\n\u001b[0;32m   1078\u001b[0m \u001b[43m    \u001b[49m\u001b[38;5;28;43mself\u001b[39;49m\u001b[38;5;241;43m.\u001b[39;49m\u001b[43mget_parent\u001b[49m\u001b[43m(\u001b[49m\u001b[38;5;124;43m\"\u001b[39;49m\u001b[38;5;124;43mshell\u001b[39;49m\u001b[38;5;124;43m\"\u001b[39;49m\u001b[43m)\u001b[49m\u001b[43m,\u001b[49m\n\u001b[0;32m   1079\u001b[0m \u001b[43m    \u001b[49m\u001b[43mpassword\u001b[49m\u001b[38;5;241;43m=\u001b[39;49m\u001b[38;5;28;43;01mFalse\u001b[39;49;00m\u001b[43m,\u001b[49m\n\u001b[0;32m   1080\u001b[0m \u001b[43m\u001b[49m\u001b[43m)\u001b[49m\n",
      "File \u001b[1;32m~\\anaconda3\\lib\\site-packages\\ipykernel\\kernelbase.py:1120\u001b[0m, in \u001b[0;36mKernel._input_request\u001b[1;34m(self, prompt, ident, parent, password)\u001b[0m\n\u001b[0;32m   1117\u001b[0m             \u001b[38;5;28;01mbreak\u001b[39;00m\n\u001b[0;32m   1118\u001b[0m \u001b[38;5;28;01mexcept\u001b[39;00m \u001b[38;5;167;01mKeyboardInterrupt\u001b[39;00m:\n\u001b[0;32m   1119\u001b[0m     \u001b[38;5;66;03m# re-raise KeyboardInterrupt, to truncate traceback\u001b[39;00m\n\u001b[1;32m-> 1120\u001b[0m     \u001b[38;5;28;01mraise\u001b[39;00m \u001b[38;5;167;01mKeyboardInterrupt\u001b[39;00m(\u001b[38;5;124m\"\u001b[39m\u001b[38;5;124mInterrupted by user\u001b[39m\u001b[38;5;124m\"\u001b[39m) \u001b[38;5;28;01mfrom\u001b[39;00m \u001b[38;5;28mNone\u001b[39m\n\u001b[0;32m   1121\u001b[0m \u001b[38;5;28;01mexcept\u001b[39;00m \u001b[38;5;167;01mException\u001b[39;00m:\n\u001b[0;32m   1122\u001b[0m     \u001b[38;5;28mself\u001b[39m\u001b[38;5;241m.\u001b[39mlog\u001b[38;5;241m.\u001b[39mwarning(\u001b[38;5;124m\"\u001b[39m\u001b[38;5;124mInvalid Message:\u001b[39m\u001b[38;5;124m\"\u001b[39m, exc_info\u001b[38;5;241m=\u001b[39m\u001b[38;5;28;01mTrue\u001b[39;00m)\n",
      "\u001b[1;31mKeyboardInterrupt\u001b[0m: Interrupted by user"
     ]
    }
   ],
   "source": [
    "#6 create a calculator (it should stop when we press \"c\") \n",
    "name=\"calculator\"\n",
    "while name==\"calculator\":\n",
    "    a=int(input(\"enter the string\"))\n",
    "    b=int(input(\"enter the string\"))\n",
    "    c=input(\"+ for add, - for sub, * for mul, / for divison :\")\n",
    "    if c==\"+\":\n",
    "        d=a+b\n",
    "        print(\"sum of {} and {} is {} :\".format(a,b,d))\n",
    "    elif c==\"-\":\n",
    "        d=a-b\n",
    "        print(\"subraction of {} and {} is {} :\".format(a,b,d))\n",
    "    elif c==\"*\":\n",
    "        d=a*b\n",
    "        print(\"multiplication of {} and {} is {} :\".format(a,b,d))\n",
    "    elif c==\"/\":\n",
    "        print(\"division of {} and {} is {} :\".format(a,b,d))\n",
    "    namer=input(\"wish to continue(yes or no) ? :\")\n",
    "        \n",
    "       \n"
   ]
  },
  {
   "cell_type": "code",
   "execution_count": null,
   "id": "251f2efa",
   "metadata": {},
   "outputs": [],
   "source": []
  }
 ],
 "metadata": {
  "kernelspec": {
   "display_name": "Python 3 (ipykernel)",
   "language": "python",
   "name": "python3"
  },
  "language_info": {
   "codemirror_mode": {
    "name": "ipython",
    "version": 3
   },
   "file_extension": ".py",
   "mimetype": "text/x-python",
   "name": "python",
   "nbconvert_exporter": "python",
   "pygments_lexer": "ipython3",
   "version": "3.9.12"
  }
 },
 "nbformat": 4,
 "nbformat_minor": 5
}
