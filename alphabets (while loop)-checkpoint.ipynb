{
 "cells": [
  {
   "cell_type": "code",
   "execution_count": 10,
   "id": "2072fc9f",
   "metadata": {},
   "outputs": [
    {
     "name": "stdout",
     "output_type": "stream",
     "text": [
      "x x x x\n",
      "x     x\n",
      "x x x x\n",
      "x     x\n",
      "x     x\n"
     ]
    }
   ],
   "source": [
    "x=0\n",
    "while x<6:\n",
    "    if x==1 or x==3:\n",
    "        print(\"x x x x\")\n",
    "    elif x==2  or x==4 or x==5:\n",
    "        print(\"x     x\")\n",
    "    x=x+1"
   ]
  },
  {
   "cell_type": "code",
   "execution_count": 15,
   "id": "21e92f6d",
   "metadata": {},
   "outputs": [
    {
     "name": "stdout",
     "output_type": "stream",
     "text": [
      "xxxxx\n",
      "x     x\n",
      "x     x\n",
      "xxxxx\n",
      "x     x\n",
      "x     x\n",
      "xxxxx\n"
     ]
    }
   ],
   "source": [
    "x=0\n",
    "while x<8:\n",
    "    if x==1 or x==4 or x==7:\n",
    "        print(\"xxxxx\")\n",
    "    elif x==2 or x==3 or x==5 or x==6:\n",
    "        print(\"x     x\")\n",
    "    x=x+1"
   ]
  },
  {
   "cell_type": "code",
   "execution_count": 17,
   "id": "e2ee2a0a",
   "metadata": {},
   "outputs": [
    {
     "name": "stdout",
     "output_type": "stream",
     "text": [
      "xxxxxx\n",
      "x     \n",
      "x     \n",
      "xxxxxx\n"
     ]
    }
   ],
   "source": [
    "x=0\n",
    "while x<5:\n",
    "    if x==1 or x==4:\n",
    "        print(\"xxxxxx\")\n",
    "    elif x==2 or x==3:\n",
    "        print(\"x     \")\n",
    "    x=x+1"
   ]
  },
  {
   "cell_type": "code",
   "execution_count": 19,
   "id": "e1f14e0d",
   "metadata": {},
   "outputs": [
    {
     "name": "stdout",
     "output_type": "stream",
     "text": [
      "xxxxxx\n",
      "x      x\n",
      "x      x\n",
      "x      x\n",
      "x      x\n",
      "xxxxxx\n"
     ]
    }
   ],
   "source": [
    "x=0\n",
    "while x<7:\n",
    "    if x==1 or x==6:\n",
    "        print(\"xxxxxx\")\n",
    "    elif x==2 or x==3 or x==4 or x==5:\n",
    "        print(\"x      x\")\n",
    "    x=x+1"
   ]
  },
  {
   "cell_type": "code",
   "execution_count": 21,
   "id": "2fa1869e",
   "metadata": {},
   "outputs": [
    {
     "name": "stdout",
     "output_type": "stream",
     "text": [
      "xxxxxxx\n",
      "x      \n",
      "x      \n",
      "xxxx\n",
      "x      \n",
      "x      \n",
      "xxxxxxx\n"
     ]
    }
   ],
   "source": [
    "x=0\n",
    "while x<8:\n",
    "    if x==1 or x==7:\n",
    "        print(\"xxxxxxx\")\n",
    "    elif x==2 or x==3 or x==5 or x==6:\n",
    "        print(\"x      \")\n",
    "    elif x==4:\n",
    "        print(\"xxxx\")\n",
    "    x=x+1\n",
    "    "
   ]
  },
  {
   "cell_type": "code",
   "execution_count": 23,
   "id": "f933b1d9",
   "metadata": {},
   "outputs": [
    {
     "name": "stdout",
     "output_type": "stream",
     "text": [
      "xxxxxxx\n",
      "x      \n",
      "xxxx\n",
      "x      \n",
      "x      \n",
      "x      \n"
     ]
    }
   ],
   "source": [
    "x=0\n",
    "while x<7:\n",
    "    if x==1:\n",
    "        print(\"xxxxxxx\")\n",
    "    elif x==2 or x==4 or x==5 or x==6:\n",
    "        print(\"x      \")\n",
    "    elif x==3:\n",
    "        print(\"xxxx\")\n",
    "    x=x+1"
   ]
  },
  {
   "cell_type": "code",
   "execution_count": 25,
   "id": "a4d9fdc8",
   "metadata": {},
   "outputs": [
    {
     "name": "stdout",
     "output_type": "stream",
     "text": [
      "* * * * *\n",
      "*    \n",
      "*    \n",
      "*    \n",
      "*    ****\n",
      "*       *\n",
      "*       *\n",
      "*       *\n",
      "* * * * *\n"
     ]
    }
   ],
   "source": [
    "x=0\n",
    "while x<10:\n",
    "    if x==1 or x==9:\n",
    "        print(\"* * * * *\")\n",
    "    elif x==2 or x==3 or x==4:\n",
    "        print(\"*    \")\n",
    "    elif x==5:\n",
    "        print(\"*    ****\")\n",
    "    elif x==6 or x==7 or x==8:\n",
    "        print(\"*       *\")\n",
    "    x=x+1"
   ]
  },
  {
   "cell_type": "code",
   "execution_count": 26,
   "id": "a88d753b",
   "metadata": {},
   "outputs": [
    {
     "name": "stdout",
     "output_type": "stream",
     "text": [
      "x         x\n",
      "x         x\n",
      "x x x x x x\n",
      "x         x\n",
      "x         x\n"
     ]
    }
   ],
   "source": [
    "x=0\n",
    "while x<6:\n",
    "    if x==1 or x==2 or x==4 or x==5:\n",
    "        print(\"x         x\")\n",
    "    elif x==3:\n",
    "        print(\"x x x x x x\")\n",
    "    x=x+1"
   ]
  },
  {
   "cell_type": "code",
   "execution_count": 27,
   "id": "768e5ea7",
   "metadata": {},
   "outputs": [
    {
     "name": "stdout",
     "output_type": "stream",
     "text": [
      "x x x x x\n",
      "    x    \n",
      "    x    \n",
      "    x    \n",
      "x x x x x\n"
     ]
    }
   ],
   "source": [
    "x=0\n",
    "while x<6:\n",
    "    if x==1 or x==5:\n",
    "        print(\"x x x x x\")\n",
    "    elif x==2 or x==3 or x==4:\n",
    "        print(\"    x    \")\n",
    "    x=x+1"
   ]
  },
  {
   "cell_type": "code",
   "execution_count": 28,
   "id": "323cb7df",
   "metadata": {},
   "outputs": [
    {
     "name": "stdout",
     "output_type": "stream",
     "text": [
      "x x x x x\n",
      "    x    \n",
      "    x    \n",
      "    x    \n",
      "    x    \n",
      "x x x    \n"
     ]
    }
   ],
   "source": [
    "x=0\n",
    "while x<7:\n",
    "    if x==1:\n",
    "        print(\"x x x x x\")\n",
    "    elif x==2 or x==3 or x==4 or x==5:\n",
    "        print(\"    x    \")\n",
    "    elif x==6:\n",
    "        print(\"x x x    \")\n",
    "    x=x+1"
   ]
  },
  {
   "cell_type": "code",
   "execution_count": 29,
   "id": "b094d62b",
   "metadata": {},
   "outputs": [
    {
     "name": "stdout",
     "output_type": "stream",
     "text": [
      "*         *   \n",
      "*      *      \n",
      "*  *          \n",
      "**            \n",
      "*  *          \n",
      "*      *      \n",
      "*         *   \n"
     ]
    }
   ],
   "source": [
    "x=0\n",
    "while x<8:\n",
    "    if x==1:\n",
    "        print(\"*         *   \")\n",
    "    elif x==2:\n",
    "        print(\"*      *      \")\n",
    "    elif x==3:\n",
    "        print(\"*  *          \")             \n",
    "    elif x==4:\n",
    "        print(\"**            \")\n",
    "    elif x==5:\n",
    "        print(\"*  *          \")\n",
    "    elif x==6:\n",
    "        print(\"*      *      \")\n",
    "    elif x==7:\n",
    "\n",
    "        print(\"*         *   \")\n",
    "    x=x+1"
   ]
  },
  {
   "cell_type": "code",
   "execution_count": 30,
   "id": "e50c47f7",
   "metadata": {},
   "outputs": [
    {
     "name": "stdout",
     "output_type": "stream",
     "text": [
      "x\n",
      "x\n",
      "x\n",
      "x\n",
      "x x x x x\n"
     ]
    }
   ],
   "source": [
    "x=0\n",
    "while x<6:\n",
    "    if x==1 or x==2 or x==3 or x==4:\n",
    "        print(\"x\")\n",
    "    elif x==5:\n",
    "        print(\"x x x x x\")\n",
    "    x=x+1"
   ]
  },
  {
   "cell_type": "code",
   "execution_count": 34,
   "id": "13cb0caa",
   "metadata": {},
   "outputs": [
    {
     "name": "stdout",
     "output_type": "stream",
     "text": [
      "x           x\n",
      "x   x    x  x\n",
      "x    x  x   x\n",
      "x      x    x\n",
      "x           x\n",
      "x           x\n",
      "x           x\n"
     ]
    }
   ],
   "source": [
    "x=0\n",
    "while x<8:\n",
    "    if x==1 or x==5 or x==6 or x==7:\n",
    "        print(\"x           x\")\n",
    "    elif x==2:\n",
    "        print(\"x   x    x  x\")\n",
    "    elif x==3:\n",
    "        print(\"x    x  x   x\")\n",
    "    elif x==4:\n",
    "        print(\"x      x    x\")\n",
    "    x=x+1"
   ]
  },
  {
   "cell_type": "code",
   "execution_count": 38,
   "id": "3af5e81b",
   "metadata": {},
   "outputs": [
    {
     "name": "stdout",
     "output_type": "stream",
     "text": [
      "xx       x\n",
      "x  x     x\n",
      "x     x  x\n",
      "x       xx\n"
     ]
    }
   ],
   "source": [
    "x=0\n",
    "while x<5:\n",
    "    if x==1:\n",
    "        print(\"xx       x\")\n",
    "    elif x==2:\n",
    "        print(\"x  x     x\")\n",
    "    elif x==3:\n",
    "        print(\"x     x  x\")\n",
    "    elif x==4:\n",
    "        print(\"x       xx\")\n",
    "    x=x+1\n",
    "    "
   ]
  },
  {
   "cell_type": "code",
   "execution_count": 48,
   "id": "76f88905",
   "metadata": {},
   "outputs": [
    {
     "name": "stdout",
     "output_type": "stream",
     "text": [
      "    x  x   \n",
      " x        x  \n",
      "x          x\n",
      "x          x\n",
      "x          x\n",
      " x        x  \n",
      "    x  x   \n"
     ]
    }
   ],
   "source": [
    "x=0\n",
    "while x<8:\n",
    "    if x==1 or x==7:\n",
    "        print(\"    x  x   \")\n",
    "    elif x==2 or x==6:\n",
    "        print(\" x        x  \")\n",
    "    elif x==3 or x==4 or x==5:\n",
    "        print(\"x          x\")\n",
    "    x=x+1"
   ]
  },
  {
   "cell_type": "code",
   "execution_count": 50,
   "id": "8da239fa",
   "metadata": {},
   "outputs": [
    {
     "name": "stdout",
     "output_type": "stream",
     "text": [
      "x x x x\n",
      "x     x\n",
      "x x x x\n",
      "x      \n",
      "x      \n"
     ]
    }
   ],
   "source": [
    "x=0\n",
    "while x<6:\n",
    "    if x==1:\n",
    "        print(\"x x x x\")\n",
    "    elif x==2:\n",
    "        print(\"x     x\")\n",
    "    elif x==3:\n",
    "        print(\"x x x x\")\n",
    "    elif x==4:\n",
    "        print(\"x      \")\n",
    "    elif x==5:\n",
    "        print(\"x      \")\n",
    "    elif x==6:\n",
    "        print(\"x      \")\n",
    "    x=x+1"
   ]
  },
  {
   "cell_type": "code",
   "execution_count": 57,
   "id": "f00699ee",
   "metadata": {},
   "outputs": [
    {
     "name": "stdout",
     "output_type": "stream",
     "text": [
      "x x x x x x\n",
      "x         x\n",
      "x         x\n",
      "x         x\n",
      "x         x\n",
      "x       x x\n",
      "x x x x x x\n",
      "            x\n"
     ]
    }
   ],
   "source": [
    "x=0\n",
    "while x<9:\n",
    "    if x==1 or x==7:\n",
    "        print(\"x x x x x x\")\n",
    "    elif x==2 or x==5:\n",
    "        print(\"x         x\")\n",
    "    elif x==3 or x==4:\n",
    "        print(\"x         x\")\n",
    "    elif x==6:\n",
    "        print(\"x       x x\")\n",
    "    elif x==8:\n",
    "        print(\"            x\")\n",
    "    x=x+1"
   ]
  },
  {
   "cell_type": "code",
   "execution_count": 61,
   "id": "8b2d1498",
   "metadata": {},
   "outputs": [
    {
     "name": "stdout",
     "output_type": "stream",
     "text": [
      "x x x x\n",
      "x     x\n",
      "x x x x\n",
      "x x    \n",
      "x   x  \n",
      "x     x\n"
     ]
    }
   ],
   "source": [
    "x=0\n",
    "while x<7:\n",
    "    if x==1:\n",
    "        print(\"x x x x\")\n",
    "    elif x==2:\n",
    "        print(\"x     x\")\n",
    "    elif x==3:\n",
    "        print(\"x x x x\")\n",
    "    elif x==4:\n",
    "        print(\"x x    \")\n",
    "    elif x==5:\n",
    "        print(\"x   x  \")\n",
    "    elif x==6:\n",
    "        print(\"x     x\")\n",
    "    x=x+1"
   ]
  },
  {
   "cell_type": "code",
   "execution_count": 62,
   "id": "f4fe31c7",
   "metadata": {},
   "outputs": [
    {
     "name": "stdout",
     "output_type": "stream",
     "text": [
      "x x x x x\n",
      "x        \n",
      "x x x x x\n",
      "        x\n",
      "x x x x x\n"
     ]
    }
   ],
   "source": [
    "x=0\n",
    "while x<6:\n",
    "    if x==1:\n",
    "        print(\"x x x x x\")\n",
    "    elif x==2:\n",
    "        print(\"x        \")\n",
    "    elif x==3:\n",
    "        print(\"x x x x x\")\n",
    "    elif x==4:\n",
    "        print(\"        x\")\n",
    "    elif x==5:\n",
    "        print(\"x x x x x\")\n",
    "    x=x+1"
   ]
  },
  {
   "cell_type": "code",
   "execution_count": 63,
   "id": "19c6efec",
   "metadata": {},
   "outputs": [
    {
     "name": "stdout",
     "output_type": "stream",
     "text": [
      "x x x x x x x\n",
      "      x      \n",
      "      x      \n",
      "      x      \n",
      "      x      \n"
     ]
    }
   ],
   "source": [
    "x=0\n",
    "while x<6:\n",
    "    if x==1:\n",
    "        print(\"x x x x x x x\")\n",
    "    elif x==2:\n",
    "        print(\"      x      \")\n",
    "    elif x==3:\n",
    "        print(\"      x      \")             \n",
    "    elif x==4:\n",
    "        print(\"      x      \")\n",
    "    elif x==5:\n",
    "        print(\"      x      \")\n",
    "    x=x+1"
   ]
  },
  {
   "cell_type": "code",
   "execution_count": 68,
   "id": "cdfc81fe",
   "metadata": {},
   "outputs": [
    {
     "name": "stdout",
     "output_type": "stream",
     "text": [
      "x            x\n",
      "x            x\n",
      "x            x\n",
      "x            x\n",
      "x            x\n",
      "x x x  x x x x\n"
     ]
    }
   ],
   "source": [
    "x=0\n",
    "while x<7:\n",
    "    if x==1 or x==2 or x==3 or x==4 or x==5:\n",
    "        print(\"x            x\")\n",
    "  \n",
    "    elif x==6:\n",
    "        print(\"x x x  x x x x\")\n",
    "    x=x+1"
   ]
  },
  {
   "cell_type": "code",
   "execution_count": 72,
   "id": "7dc13506",
   "metadata": {},
   "outputs": [
    {
     "name": "stdout",
     "output_type": "stream",
     "text": [
      "x          x\n",
      "  x      x \n",
      "    x  x   \n",
      "      x   \n"
     ]
    }
   ],
   "source": [
    "x=0\n",
    "while x<6:\n",
    "    if x==1:\n",
    "        print(\"x          x\")\n",
    "    elif x==2:\n",
    "        print(\"  x      x \")\n",
    "    elif x==3:\n",
    "        print(\"    x  x   \")\n",
    "    elif x==4:\n",
    "        print(\"      x   \")\n",
    "    x=x+1\n",
    "    "
   ]
  },
  {
   "cell_type": "code",
   "execution_count": 73,
   "id": "0199612c",
   "metadata": {},
   "outputs": [
    {
     "name": "stdout",
     "output_type": "stream",
     "text": [
      "x         x\n",
      "x         x\n",
      "x    x    x\n",
      "x x     x x\n"
     ]
    }
   ],
   "source": [
    "x=0\n",
    "while x<5:\n",
    "    if x==1 or x==2:\n",
    "        print(\"x         x\")\n",
    "    elif x==3:\n",
    "        print(\"x    x    x\")\n",
    "    elif x==4:\n",
    "        print(\"x x     x x\")\n",
    "    x=x+1"
   ]
  },
  {
   "cell_type": "code",
   "execution_count": 75,
   "id": "fde850e2",
   "metadata": {},
   "outputs": [
    {
     "name": "stdout",
     "output_type": "stream",
     "text": [
      "x       x\n",
      "  x   x  \n",
      "    x   \n",
      "  x   x  \n",
      "x       x\n"
     ]
    }
   ],
   "source": [
    "x=0\n",
    "while x<6:\n",
    "    if x==1 or x==5:\n",
    "        print(\"x       x\")\n",
    "    elif x==2 or x==4:\n",
    "        print(\"  x   x  \")\n",
    "    elif x==3:\n",
    "        print(\"    x   \")\n",
    "    x=x+1"
   ]
  },
  {
   "cell_type": "code",
   "execution_count": 76,
   "id": "0ac0a3e1",
   "metadata": {},
   "outputs": [
    {
     "name": "stdout",
     "output_type": "stream",
     "text": [
      "x            x\n",
      " x          x \n",
      "    x    x    \n",
      "       x      \n",
      "       x      \n",
      "       x      \n"
     ]
    }
   ],
   "source": [
    "x=0\n",
    "while x<7:\n",
    "    if x==1:\n",
    "        print(\"x            x\")\n",
    "    elif x==2:\n",
    "        print(\" x          x \")\n",
    "    elif x==3:\n",
    "        print(\"    x    x    \")\n",
    "    elif x==4 or x==5 or x==6:\n",
    "        print(\"       x      \")\n",
    "    x=x+1\n"
   ]
  },
  {
   "cell_type": "code",
   "execution_count": 77,
   "id": "82a7e3ac",
   "metadata": {},
   "outputs": [
    {
     "name": "stdout",
     "output_type": "stream",
     "text": [
      "x x x x x\n",
      "      x  \n",
      "    x    \n",
      "  x      \n",
      "x x x x x\n"
     ]
    }
   ],
   "source": [
    "x=0\n",
    "while x<6:\n",
    "    if x==1 or x==5:\n",
    "        print(\"x x x x x\")\n",
    "    elif x==2:\n",
    "        print(\"      x  \")\n",
    "    elif x==3:\n",
    "        print(\"    x    \")\n",
    "    elif x==4:\n",
    "        print(\"  x      \")\n",
    "    x=x+1"
   ]
  },
  {
   "cell_type": "code",
   "execution_count": 89,
   "id": "9d368126",
   "metadata": {},
   "outputs": [
    {
     "name": "stdout",
     "output_type": "stream",
     "text": [
      "enter the name  :  yuktha\n",
      "x            x\n",
      " x          x \n",
      "    x    x    \n",
      "       x      \n",
      "       x      \n",
      "       x      \n",
      "\n",
      "\n",
      "x            x\n",
      "x            x\n",
      "x            x\n",
      "x            x\n",
      "x            x\n",
      "x x x  x x x x\n",
      "\n",
      "\n",
      "*         *   \n",
      "*      *      \n",
      "*  *          \n",
      "**            \n",
      "*  *          \n",
      "*      *      \n",
      "*         *   \n",
      "\n",
      "\n",
      "x x x x x x x\n",
      "      x      \n",
      "      x      \n",
      "      x      \n",
      "      x      \n",
      "\n",
      "\n",
      "x         x\n",
      "x         x\n",
      "x x x x x x\n",
      "x         x\n",
      "x         x\n",
      "\n",
      "\n",
      "x x x x\n",
      "x     x\n",
      "x x x x\n",
      "x     x\n",
      "x     x\n",
      "\n",
      "\n"
     ]
    }
   ],
   "source": [
    "X=input(\"enter the name  :  \")\n",
    "i=0\n",
    "while i<len(X):\n",
    "    if X[i]=='A' or X[i]=='a':\n",
    "        x=0\n",
    "        while x<6:\n",
    "            if x==1 or x==3:\n",
    "                print(\"x x x x\")\n",
    "            elif x==2  or x==4 or x==5:\n",
    "                print(\"x     x\")\n",
    "            x=x+1\n",
    "    elif X[i]=='B' or X[i]=='b':\n",
    "        x=0\n",
    "        while x<8:\n",
    "            if x==1 or x==4 or x==7:\n",
    "                print(\"xxxxx\")\n",
    "            elif x==2 or x==3 or x==5 or x==6:\n",
    "                print(\"x     x\")\n",
    "            x=x+1\n",
    "    elif X[i]=='C' or X[i]=='c':\n",
    "        x=0\n",
    "        while x<5:\n",
    "            if x==1 or x==4:\n",
    "                print(\"xxxxxx\")\n",
    "            elif x==2 or x==3:\n",
    "                print(\"x     \")\n",
    "            x=x+1\n",
    "    elif X[i]=='D' or X[i]=='c':\n",
    "        x=0\n",
    "        while x<7:\n",
    "            if x==1 or x==6:\n",
    "                print(\"xxxxxx\")\n",
    "            elif x==2 or x==3 or x==4 or x==5:\n",
    "                print(\"x      x\")\n",
    "            x=x+1\n",
    "    elif X[i]=='E' or X[i]=='e':\n",
    "        x=0\n",
    "        while x<8:\n",
    "            if x==1 or x==7:\n",
    "                print(\"xxxxxxx\")\n",
    "            elif x==2 or x==3 or x==5 or x==6:\n",
    "                print(\"x      \")\n",
    "            elif x==4:\n",
    "                print(\"xxxx\")\n",
    "            x=x+1\n",
    "    elif X[i]=='F' or X[i]=='f':\n",
    "        x=0\n",
    "        while x<7:\n",
    "            if x==1:\n",
    "                print(\"xxxxxxx\")\n",
    "            elif x==2 or x==4 or x==5 or x==6:\n",
    "                print(\"x      \")\n",
    "            elif x==3:\n",
    "                print(\"xxxx\")\n",
    "            x=x+1\n",
    "    elif X[i]=='G' or X[i]=='g':\n",
    "        x=0\n",
    "        while x<10:\n",
    "            if x==1 or x==9:\n",
    "                print(\"* * * * *\")\n",
    "            elif x==2 or x==3 or x==4:\n",
    "                print(\"*    \")\n",
    "            elif x==5:\n",
    "                print(\"*    ****\")\n",
    "            elif x==6 or x==7 or x==8:\n",
    "                print(\"*       *\")\n",
    "            x=x+1\n",
    "    elif X[i]=='H' or X[i]=='h':\n",
    "        x=0\n",
    "        while x<6:\n",
    "            if x==1 or x==2 or x==4 or x==5:\n",
    "                print(\"x         x\")\n",
    "            elif x==3:\n",
    "                print(\"x x x x x x\")\n",
    "            x=x+1\n",
    "    elif X[i]=='I' or X[i]=='i':\n",
    "        x=0\n",
    "        while x<6:\n",
    "            if x==1 or x==5:\n",
    "                print(\"x x x x x\")\n",
    "            elif x==2 or x==3 or x==4:\n",
    "                print(\"    x    \")\n",
    "            x=x+1\n",
    "        \n",
    "    elif X[i]=='J' or X[i]=='j':\n",
    "        x=0\n",
    "        while x<7:\n",
    "            if x==1:\n",
    "                print(\"x x x x x\")\n",
    "            elif x==2 or x==3 or x==4 or x==5:\n",
    "                print(\"    x    \")\n",
    "            elif x==6:\n",
    "                print(\"x x x    \")\n",
    "            x=x+1\n",
    "    elif X[i]=='K' or X[i]=='k':\n",
    "        x=0\n",
    "        while x<8:\n",
    "            if x==1:\n",
    "                print(\"*         *   \")\n",
    "            elif x==2:\n",
    "                print(\"*      *      \")\n",
    "            elif x==3:\n",
    "                print(\"*  *          \")             \n",
    "            elif x==4:\n",
    "                print(\"**            \")\n",
    "            elif x==5:\n",
    "                print(\"*  *          \")\n",
    "            elif x==6:\n",
    "                print(\"*      *      \")\n",
    "            elif x==7:\n",
    "\n",
    "                print(\"*         *   \")\n",
    "            x=x+1\n",
    "    elif X[i]=='L' or X[i]=='l':\n",
    "        x=0\n",
    "        while x<6:\n",
    "            if x==1 or x==2 or x==3 or x==4:\n",
    "                print(\"x\")\n",
    "            elif x==5:\n",
    "                print(\"x x x x x\")\n",
    "            x=x+1\n",
    "    elif X[i]=='M' or X[i]=='m':\n",
    "        x=0\n",
    "        while x<8:\n",
    "            if x==1 or x==5 or x==6 or x==7:\n",
    "                print(\"x           x\")\n",
    "            elif x==2:\n",
    "                print(\"x   x    x  x\")\n",
    "            elif x==3:\n",
    "                print(\"x    x  x   x\")\n",
    "            elif x==4:\n",
    "                print(\"x      x    x\")\n",
    "            x=x+1\n",
    "    elif X[i]=='N' or X[i]=='n':\n",
    "        x=0\n",
    "        while x<5:\n",
    "            if x==1:\n",
    "                print(\"xx       x\")\n",
    "            elif x==2:\n",
    "                print(\"x  x     x\")\n",
    "            elif x==3:\n",
    "                print(\"x     x  x\")\n",
    "            elif x==4:\n",
    "                print(\"x       xx\")\n",
    "            x=x+1\n",
    "       \n",
    "    elif X[i]=='O' or X[i]=='o':\n",
    "        x=0\n",
    "        while x<8:\n",
    "            if x==1 or x==7:\n",
    "                print(\"    x  x   \")\n",
    "            elif x==2 or x==6:\n",
    "                print(\" x        x  \")\n",
    "            elif x==3 or x==4 or x==5:\n",
    "                print(\"x          x\")\n",
    "            x=x+1\n",
    "    elif X[i]=='P' or X[i]=='p':\n",
    "        x=0\n",
    "        while x<6:\n",
    "            if x==1:\n",
    "                print(\"x x x x\")\n",
    "            elif x==2:\n",
    "                print(\"x     x\")\n",
    "            elif x==3:\n",
    "                print(\"x x x x\")\n",
    "            elif x==4:\n",
    "                print(\"x      \")\n",
    "            elif x==5:\n",
    "                print(\"x      \")\n",
    "            elif x==6:\n",
    "                print(\"x      \")\n",
    "            x=x+1\n",
    "    elif X[i]=='Q' or X[i]=='q':\n",
    "        x=0\n",
    "        while x<9:\n",
    "            if x==1 or x==7:\n",
    "                print(\"x x x x x x\")\n",
    "            elif x==2 or x==5:\n",
    "                print(\"x         x\")\n",
    "            elif x==3 or x==4:\n",
    "                print(\"x         x\")\n",
    "            elif x==6:\n",
    "                print(\"x       x x\")\n",
    "            elif x==8:\n",
    "                print(\"            x\")\n",
    "            x=x+1\n",
    "    elif X[i]=='R' or X[i]=='r':\n",
    "        x=0\n",
    "        while x<7:\n",
    "            if x==1:\n",
    "                print(\"x x x x\")\n",
    "            elif x==2:\n",
    "                print(\"x     x\")\n",
    "            elif x==3:\n",
    "                print(\"x x x x\")\n",
    "            elif x==4:\n",
    "                print(\"x x    \")\n",
    "            elif x==5:\n",
    "                print(\"x   x  \")\n",
    "            elif x==6:\n",
    "                print(\"x     x\")\n",
    "            x=x+1\n",
    "    elif X[i]=='S' or X[i]=='s':\n",
    "        x=0\n",
    "        while x<6:\n",
    "            if x==1:\n",
    "                print(\"x x x x x\")\n",
    "            elif x==2:\n",
    "                print(\"x        \")\n",
    "            elif x==3:\n",
    "                print(\"x x x x x\")\n",
    "            elif x==4:\n",
    "                print(\"        x\")\n",
    "            elif x==5:\n",
    "                print(\"x x x x x\")\n",
    "            x=x+1\n",
    "    elif X[i]=='T' or X[i]=='t':\n",
    "        x=0\n",
    "        while x<6:\n",
    "            if x==1:\n",
    "                print(\"x x x x x x x\")\n",
    "            elif x==2:\n",
    "                print(\"      x      \")\n",
    "            elif x==3:\n",
    "                print(\"      x      \")             \n",
    "            elif x==4:\n",
    "                print(\"      x      \")\n",
    "            elif x==5:\n",
    "                print(\"      x      \")\n",
    "            x=x+1\n",
    "    elif X[i]=='U' or X[i]=='u':\n",
    "        x=0\n",
    "        while x<7:\n",
    "            if x==1 or x==2 or x==3 or x==4 or x==5:\n",
    "                print(\"x            x\")\n",
    "  \n",
    "            elif x==6:\n",
    "                print(\"x x x  x x x x\")\n",
    "            x=x+1\n",
    "    elif X[i]=='V' or X[i]=='v':\n",
    "        x=0\n",
    "        while x<6:\n",
    "            if x==1:\n",
    "                print(\"x          x\")\n",
    "            elif x==2:\n",
    "                print(\"  x      x \")\n",
    "            elif x==3:\n",
    "                print(\"    x  x   \")\n",
    "            elif x==4:\n",
    "                print(\"      x   \")\n",
    "            x=x+1\n",
    "    elif X[i]=='W' or X[i]=='w':\n",
    "        x=0\n",
    "        while x<5:\n",
    "            if x==1 or x==2:\n",
    "                print(\"x         x\")\n",
    "            elif x==3:\n",
    "                print(\"x    x    x\")\n",
    "            elif x==4:\n",
    "                print(\"x x     x x\")\n",
    "            x=x+1\n",
    "    elif X[i]=='X' or X[i]=='x':\n",
    "        x=0\n",
    "        while x<6:\n",
    "            if x==1 or x==5:\n",
    "                print(\"x       x\")\n",
    "            elif x==2 or x==4:\n",
    "                print(\"  x   x  \")\n",
    "            elif x==3:\n",
    "                print(\"    x   \")\n",
    "            x=x+1\n",
    "    elif X[i]=='Y' or X[i]=='y':\n",
    "        x=0\n",
    "        while x<7:\n",
    "            if x==1:\n",
    "                print(\"x            x\")\n",
    "            elif x==2:\n",
    "                print(\" x          x \")\n",
    "            elif x==3:\n",
    "                print(\"    x    x    \")\n",
    "            elif x==4 or x==5 or x==6:\n",
    "                print(\"       x      \")\n",
    "            x=x+1\n",
    "    elif X[i]=='Z' or X[i]=='z':\n",
    "        x=0\n",
    "        while x<6:\n",
    "            if x==1 or x==5:\n",
    "                print(\"x x x x x\")\n",
    "            elif x==2:\n",
    "                print(\"      x  \")\n",
    "            elif x==3:\n",
    "                print(\"    x    \")\n",
    "            elif x==4:\n",
    "                print(\"  x      \")\n",
    "            x=x+1\n",
    "    i=i+1\n",
    "    print('\\n')\n",
    "        \n",
    "\n",
    "        \n",
    "        \n",
    "        \n",
    "        \n",
    "        \n",
    "        \n",
    "        \n",
    "        \n",
    "        \n",
    "    \n",
    "        \n",
    "        \n",
    "        \n",
    "        \n",
    "        \n",
    "        \n",
    "        \n",
    "    \n",
    "        \n",
    "        \n",
    "        \n",
    "    "
   ]
  },
  {
   "cell_type": "code",
   "execution_count": null,
   "id": "2f0394aa",
   "metadata": {},
   "outputs": [],
   "source": []
  },
  {
   "cell_type": "code",
   "execution_count": null,
   "id": "92342b83",
   "metadata": {},
   "outputs": [],
   "source": []
  }
 ],
 "metadata": {
  "kernelspec": {
   "display_name": "Python 3 (ipykernel)",
   "language": "python",
   "name": "python3"
  },
  "language_info": {
   "codemirror_mode": {
    "name": "ipython",
    "version": 3
   },
   "file_extension": ".py",
   "mimetype": "text/x-python",
   "name": "python",
   "nbconvert_exporter": "python",
   "pygments_lexer": "ipython3",
   "version": "3.9.12"
  }
 },
 "nbformat": 4,
 "nbformat_minor": 5
}
